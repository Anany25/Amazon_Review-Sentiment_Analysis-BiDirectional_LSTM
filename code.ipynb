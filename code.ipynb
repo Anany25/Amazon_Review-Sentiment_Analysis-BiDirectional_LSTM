{
  "metadata": {
    "kernelspec": {
      "display_name": "natlp",
      "language": "python",
      "name": "natlp"
    },
    "language_info": {
      "codemirror_mode": {
        "name": "ipython",
        "version": 3
      },
      "file_extension": ".py",
      "mimetype": "text/x-python",
      "name": "python",
      "nbconvert_exporter": "python",
      "pygments_lexer": "ipython3",
      "version": "3.7.3"
    },
    "colab": {
      "provenance": []
    }
  },
  "nbformat_minor": 0,
  "nbformat": 4,
  "cells": [
    {
      "cell_type": "markdown",
      "source": [
        "# Imports"
      ],
      "metadata": {
        "id": "b9-m9JDvkWno"
      }
    },
    {
      "cell_type": "code",
      "source": [
        "import numpy as np\n",
        "import pandas as pd\n",
        "import matplotlib.pyplot as plt\n",
        "import tensorflow as tf\n",
        "from tensorflow.keras.preprocessing.text import Tokenizer\n",
        "from tensorflow.keras.preprocessing.sequence import pad_sequences"
      ],
      "metadata": {
        "id": "7CniTahUkWnq"
      },
      "execution_count": null,
      "outputs": []
    },
    {
      "cell_type": "code",
      "source": [
        "import os\n",
        "import zipfile\n"
      ],
      "metadata": {
        "id": "ppGtltMgkWnq"
      },
      "execution_count": null,
      "outputs": []
    },
    {
      "cell_type": "code",
      "source": [
        "import seaborn as sns"
      ],
      "metadata": {
        "id": "AdPq-WpwkWnr"
      },
      "execution_count": null,
      "outputs": []
    },
    {
      "cell_type": "code",
      "source": [
        "from tensorflow.keras.utils import to_categorical"
      ],
      "metadata": {
        "id": "yzoh9KGYkWnr"
      },
      "execution_count": null,
      "outputs": []
    },
    {
      "cell_type": "code",
      "source": [],
      "metadata": {
        "id": "3OClKuvBkWnr"
      },
      "execution_count": null,
      "outputs": []
    },
    {
      "cell_type": "markdown",
      "source": [
        "\n",
        "# Reading data"
      ],
      "metadata": {
        "id": "O3-0CNXfkWnr"
      }
    },
    {
      "cell_type": "code",
      "source": [
        "local_path = os.path.join('amazon reviews priority.zip')"
      ],
      "metadata": {
        "id": "3A-LSMGnkWnr"
      },
      "execution_count": null,
      "outputs": []
    },
    {
      "cell_type": "code",
      "source": [
        "zip_ref = zipfile.ZipFile(local_path)\n",
        "zip_ref.extractall('data')\n",
        "zip_ref.close()"
      ],
      "metadata": {
        "id": "mfcHyd5ekWns"
      },
      "execution_count": null,
      "outputs": []
    },
    {
      "cell_type": "code",
      "source": [
        "train_path = os.path.join('data' , 'train.csv')\n",
        "df = pd.read_csv(train_path , header = None)"
      ],
      "metadata": {
        "id": "9EfRq-eUkWns"
      },
      "execution_count": null,
      "outputs": []
    },
    {
      "cell_type": "code",
      "source": [
        "df"
      ],
      "metadata": {
        "id": "rY6e5-YKkWns",
        "outputId": "8fdfd786-5ba5-4df6-ce18-2edb253c86cf"
      },
      "execution_count": null,
      "outputs": [
        {
          "execution_count": 7,
          "output_type": "execute_result",
          "data": {
            "text/html": [
              "<div>\n",
              "<style scoped>\n",
              "    .dataframe tbody tr th:only-of-type {\n",
              "        vertical-align: middle;\n",
              "    }\n",
              "\n",
              "    .dataframe tbody tr th {\n",
              "        vertical-align: top;\n",
              "    }\n",
              "\n",
              "    .dataframe thead th {\n",
              "        text-align: right;\n",
              "    }\n",
              "</style>\n",
              "<table border=\"1\" class=\"dataframe\">\n",
              "  <thead>\n",
              "    <tr style=\"text-align: right;\">\n",
              "      <th></th>\n",
              "      <th>0</th>\n",
              "      <th>1</th>\n",
              "      <th>2</th>\n",
              "    </tr>\n",
              "  </thead>\n",
              "  <tbody>\n",
              "    <tr>\n",
              "      <th>0</th>\n",
              "      <td>2</td>\n",
              "      <td>Stuning even for the non-gamer</td>\n",
              "      <td>This sound track was beautiful! It paints the ...</td>\n",
              "    </tr>\n",
              "    <tr>\n",
              "      <th>1</th>\n",
              "      <td>2</td>\n",
              "      <td>The best soundtrack ever to anything.</td>\n",
              "      <td>I'm reading a lot of reviews saying that this ...</td>\n",
              "    </tr>\n",
              "    <tr>\n",
              "      <th>2</th>\n",
              "      <td>2</td>\n",
              "      <td>Amazing!</td>\n",
              "      <td>This soundtrack is my favorite music of all ti...</td>\n",
              "    </tr>\n",
              "    <tr>\n",
              "      <th>3</th>\n",
              "      <td>2</td>\n",
              "      <td>Excellent Soundtrack</td>\n",
              "      <td>I truly like this soundtrack and I enjoy video...</td>\n",
              "    </tr>\n",
              "    <tr>\n",
              "      <th>4</th>\n",
              "      <td>2</td>\n",
              "      <td>Remember, Pull Your Jaw Off The Floor After He...</td>\n",
              "      <td>If you've played the game, you know how divine...</td>\n",
              "    </tr>\n",
              "    <tr>\n",
              "      <th>...</th>\n",
              "      <td>...</td>\n",
              "      <td>...</td>\n",
              "      <td>...</td>\n",
              "    </tr>\n",
              "    <tr>\n",
              "      <th>3599995</th>\n",
              "      <td>1</td>\n",
              "      <td>Don't do it!!</td>\n",
              "      <td>The high chair looks great when it first comes...</td>\n",
              "    </tr>\n",
              "    <tr>\n",
              "      <th>3599996</th>\n",
              "      <td>1</td>\n",
              "      <td>Looks nice, low functionality</td>\n",
              "      <td>I have used this highchair for 2 kids now and ...</td>\n",
              "    </tr>\n",
              "    <tr>\n",
              "      <th>3599997</th>\n",
              "      <td>1</td>\n",
              "      <td>compact, but hard to clean</td>\n",
              "      <td>We have a small house, and really wanted two o...</td>\n",
              "    </tr>\n",
              "    <tr>\n",
              "      <th>3599998</th>\n",
              "      <td>1</td>\n",
              "      <td>what is it saying?</td>\n",
              "      <td>not sure what this book is supposed to be. It ...</td>\n",
              "    </tr>\n",
              "    <tr>\n",
              "      <th>3599999</th>\n",
              "      <td>2</td>\n",
              "      <td>Makes My Blood Run Red-White-And-Blue</td>\n",
              "      <td>I agree that every American should read this b...</td>\n",
              "    </tr>\n",
              "  </tbody>\n",
              "</table>\n",
              "<p>3600000 rows × 3 columns</p>\n",
              "</div>"
            ],
            "text/plain": [
              "         0                                                  1  \\\n",
              "0        2                     Stuning even for the non-gamer   \n",
              "1        2              The best soundtrack ever to anything.   \n",
              "2        2                                           Amazing!   \n",
              "3        2                               Excellent Soundtrack   \n",
              "4        2  Remember, Pull Your Jaw Off The Floor After He...   \n",
              "...     ..                                                ...   \n",
              "3599995  1                                      Don't do it!!   \n",
              "3599996  1                      Looks nice, low functionality   \n",
              "3599997  1                         compact, but hard to clean   \n",
              "3599998  1                                 what is it saying?   \n",
              "3599999  2              Makes My Blood Run Red-White-And-Blue   \n",
              "\n",
              "                                                         2  \n",
              "0        This sound track was beautiful! It paints the ...  \n",
              "1        I'm reading a lot of reviews saying that this ...  \n",
              "2        This soundtrack is my favorite music of all ti...  \n",
              "3        I truly like this soundtrack and I enjoy video...  \n",
              "4        If you've played the game, you know how divine...  \n",
              "...                                                    ...  \n",
              "3599995  The high chair looks great when it first comes...  \n",
              "3599996  I have used this highchair for 2 kids now and ...  \n",
              "3599997  We have a small house, and really wanted two o...  \n",
              "3599998  not sure what this book is supposed to be. It ...  \n",
              "3599999  I agree that every American should read this b...  \n",
              "\n",
              "[3600000 rows x 3 columns]"
            ]
          },
          "metadata": {}
        }
      ]
    },
    {
      "cell_type": "code",
      "source": [
        "test_path = os.path.join('data' , 'test.csv')\n",
        "df_test = pd.read_csv(test_path , header = None)"
      ],
      "metadata": {
        "id": "KigIhxtEkWnt"
      },
      "execution_count": null,
      "outputs": []
    },
    {
      "cell_type": "markdown",
      "source": [
        "\n",
        "# EDA"
      ],
      "metadata": {
        "id": "0zvtvHGEkWnt"
      }
    },
    {
      "cell_type": "code",
      "source": [
        "df = df.sample(100_000)"
      ],
      "metadata": {
        "id": "UWxkIseukWnt"
      },
      "execution_count": null,
      "outputs": []
    },
    {
      "cell_type": "code",
      "source": [
        "df[0].value_counts()"
      ],
      "metadata": {
        "id": "NfgIHY-hkWnt",
        "outputId": "5e4c2c0d-dd41-40e0-fc76-0ca6eb6ddeb4"
      },
      "execution_count": null,
      "outputs": [
        {
          "execution_count": 14,
          "output_type": "execute_result",
          "data": {
            "text/plain": [
              "2    50038\n",
              "1    49962\n",
              "Name: 0, dtype: int64"
            ]
          },
          "metadata": {}
        }
      ]
    },
    {
      "cell_type": "code",
      "source": [
        "df_test[0].value_counts()"
      ],
      "metadata": {
        "id": "qcXZpuEGkWnt",
        "outputId": "2d75e1d6-936d-4d97-b1d1-1c05a9d7237d"
      },
      "execution_count": null,
      "outputs": [
        {
          "execution_count": 15,
          "output_type": "execute_result",
          "data": {
            "text/plain": [
              "1    200000\n",
              "2    200000\n",
              "Name: 0, dtype: int64"
            ]
          },
          "metadata": {}
        }
      ]
    },
    {
      "cell_type": "code",
      "source": [
        "df = df.sample(len(df))"
      ],
      "metadata": {
        "id": "hZhf63B5kWnu"
      },
      "execution_count": null,
      "outputs": []
    },
    {
      "cell_type": "code",
      "source": [
        "df_test = df_test.sample(len(df_test))"
      ],
      "metadata": {
        "id": "C_Q3cwpukWnu"
      },
      "execution_count": null,
      "outputs": []
    },
    {
      "cell_type": "code",
      "source": [
        "df['title_text'] = df[1] + ' ' + df[2]"
      ],
      "metadata": {
        "id": "5YJkfLl3kWnu"
      },
      "execution_count": null,
      "outputs": []
    },
    {
      "cell_type": "code",
      "source": [
        "df_test['title_text'] = df_test[1] + ' ' + df_test[2]"
      ],
      "metadata": {
        "id": "2w3dIjfPkWnu"
      },
      "execution_count": null,
      "outputs": []
    },
    {
      "cell_type": "code",
      "source": [
        "df.head()"
      ],
      "metadata": {
        "id": "I3kAhs7KkWnu",
        "outputId": "44a414c3-01a6-4f51-b85d-9278541ad983"
      },
      "execution_count": null,
      "outputs": [
        {
          "execution_count": 20,
          "output_type": "execute_result",
          "data": {
            "text/html": [
              "<div>\n",
              "<style scoped>\n",
              "    .dataframe tbody tr th:only-of-type {\n",
              "        vertical-align: middle;\n",
              "    }\n",
              "\n",
              "    .dataframe tbody tr th {\n",
              "        vertical-align: top;\n",
              "    }\n",
              "\n",
              "    .dataframe thead th {\n",
              "        text-align: right;\n",
              "    }\n",
              "</style>\n",
              "<table border=\"1\" class=\"dataframe\">\n",
              "  <thead>\n",
              "    <tr style=\"text-align: right;\">\n",
              "      <th></th>\n",
              "      <th>0</th>\n",
              "      <th>1</th>\n",
              "      <th>2</th>\n",
              "      <th>title_text</th>\n",
              "    </tr>\n",
              "  </thead>\n",
              "  <tbody>\n",
              "    <tr>\n",
              "      <th>2553817</th>\n",
              "      <td>2</td>\n",
              "      <td>discharge, by discharge</td>\n",
              "      <td>Nobody does punk like Discharge, they're loud,...</td>\n",
              "      <td>discharge, by discharge Nobody does punk like ...</td>\n",
              "    </tr>\n",
              "    <tr>\n",
              "      <th>3532175</th>\n",
              "      <td>2</td>\n",
              "      <td>Great to help you remember the first time you ...</td>\n",
              "      <td>I'll admit, there are a couple of songs on the...</td>\n",
              "      <td>Great to help you remember the first time you ...</td>\n",
              "    </tr>\n",
              "    <tr>\n",
              "      <th>2506332</th>\n",
              "      <td>2</td>\n",
              "      <td>Leslie Sassone-Walk Strong</td>\n",
              "      <td>This walk video is very good for me. I am sixt...</td>\n",
              "      <td>Leslie Sassone-Walk Strong This walk video is ...</td>\n",
              "    </tr>\n",
              "    <tr>\n",
              "      <th>2552692</th>\n",
              "      <td>1</td>\n",
              "      <td>Don't waste your money</td>\n",
              "      <td>The two cd's that come with this are strictly ...</td>\n",
              "      <td>Don't waste your money The two cd's that come ...</td>\n",
              "    </tr>\n",
              "    <tr>\n",
              "      <th>1457101</th>\n",
              "      <td>1</td>\n",
              "      <td>Bad odor</td>\n",
              "      <td>I have 2 of these air cleaners and have ordere...</td>\n",
              "      <td>Bad odor I have 2 of these air cleaners and ha...</td>\n",
              "    </tr>\n",
              "  </tbody>\n",
              "</table>\n",
              "</div>"
            ],
            "text/plain": [
              "         0                                                  1  \\\n",
              "2553817  2                            discharge, by discharge   \n",
              "3532175  2  Great to help you remember the first time you ...   \n",
              "2506332  2                         Leslie Sassone-Walk Strong   \n",
              "2552692  1                             Don't waste your money   \n",
              "1457101  1                                           Bad odor   \n",
              "\n",
              "                                                         2  \\\n",
              "2553817  Nobody does punk like Discharge, they're loud,...   \n",
              "3532175  I'll admit, there are a couple of songs on the...   \n",
              "2506332  This walk video is very good for me. I am sixt...   \n",
              "2552692  The two cd's that come with this are strictly ...   \n",
              "1457101  I have 2 of these air cleaners and have ordere...   \n",
              "\n",
              "                                                title_text  \n",
              "2553817  discharge, by discharge Nobody does punk like ...  \n",
              "3532175  Great to help you remember the first time you ...  \n",
              "2506332  Leslie Sassone-Walk Strong This walk video is ...  \n",
              "2552692  Don't waste your money The two cd's that come ...  \n",
              "1457101  Bad odor I have 2 of these air cleaners and ha...  "
            ]
          },
          "metadata": {}
        }
      ]
    },
    {
      "cell_type": "code",
      "source": [
        "df_test.head()"
      ],
      "metadata": {
        "id": "LuVKfQVAkWnu",
        "outputId": "56c96b3d-b6c7-4f93-abd0-a2c5cab26a66"
      },
      "execution_count": null,
      "outputs": [
        {
          "execution_count": 21,
          "output_type": "execute_result",
          "data": {
            "text/html": [
              "<div>\n",
              "<style scoped>\n",
              "    .dataframe tbody tr th:only-of-type {\n",
              "        vertical-align: middle;\n",
              "    }\n",
              "\n",
              "    .dataframe tbody tr th {\n",
              "        vertical-align: top;\n",
              "    }\n",
              "\n",
              "    .dataframe thead th {\n",
              "        text-align: right;\n",
              "    }\n",
              "</style>\n",
              "<table border=\"1\" class=\"dataframe\">\n",
              "  <thead>\n",
              "    <tr style=\"text-align: right;\">\n",
              "      <th></th>\n",
              "      <th>0</th>\n",
              "      <th>1</th>\n",
              "      <th>2</th>\n",
              "      <th>title_text</th>\n",
              "    </tr>\n",
              "  </thead>\n",
              "  <tbody>\n",
              "    <tr>\n",
              "      <th>82170</th>\n",
              "      <td>2</td>\n",
              "      <td>This was a MASTERPIECE</td>\n",
              "      <td>This is another of Hitchcock's great films. Li...</td>\n",
              "      <td>This was a MASTERPIECE This is another of Hitc...</td>\n",
              "    </tr>\n",
              "    <tr>\n",
              "      <th>21559</th>\n",
              "      <td>2</td>\n",
              "      <td>Certainly the place to start-- the very best s...</td>\n",
              "      <td>I read this in its original 1967 edition when ...</td>\n",
              "      <td>Certainly the place to start-- the very best s...</td>\n",
              "    </tr>\n",
              "    <tr>\n",
              "      <th>214899</th>\n",
              "      <td>2</td>\n",
              "      <td>Great cart</td>\n",
              "      <td>This is a slick little cart and well worth the...</td>\n",
              "      <td>Great cart This is a slick little cart and wel...</td>\n",
              "    </tr>\n",
              "    <tr>\n",
              "      <th>25988</th>\n",
              "      <td>2</td>\n",
              "      <td>You Will Not be Disappointed</td>\n",
              "      <td>Probably one of the greatest books of the twen...</td>\n",
              "      <td>You Will Not be Disappointed Probably one of t...</td>\n",
              "    </tr>\n",
              "    <tr>\n",
              "      <th>265944</th>\n",
              "      <td>2</td>\n",
              "      <td>Works fine</td>\n",
              "      <td>Very good case the ipod is very protected and ...</td>\n",
              "      <td>Works fine Very good case the ipod is very pro...</td>\n",
              "    </tr>\n",
              "  </tbody>\n",
              "</table>\n",
              "</div>"
            ],
            "text/plain": [
              "        0                                                  1  \\\n",
              "82170   2                             This was a MASTERPIECE   \n",
              "21559   2  Certainly the place to start-- the very best s...   \n",
              "214899  2                                         Great cart   \n",
              "25988   2                       You Will Not be Disappointed   \n",
              "265944  2                                         Works fine   \n",
              "\n",
              "                                                        2  \\\n",
              "82170   This is another of Hitchcock's great films. Li...   \n",
              "21559   I read this in its original 1967 edition when ...   \n",
              "214899  This is a slick little cart and well worth the...   \n",
              "25988   Probably one of the greatest books of the twen...   \n",
              "265944  Very good case the ipod is very protected and ...   \n",
              "\n",
              "                                               title_text  \n",
              "82170   This was a MASTERPIECE This is another of Hitc...  \n",
              "21559   Certainly the place to start-- the very best s...  \n",
              "214899  Great cart This is a slick little cart and wel...  \n",
              "25988   You Will Not be Disappointed Probably one of t...  \n",
              "265944  Works fine Very good case the ipod is very pro...  "
            ]
          },
          "metadata": {}
        }
      ]
    },
    {
      "cell_type": "code",
      "source": [
        "df.info()"
      ],
      "metadata": {
        "id": "21Zf3-dskWnv",
        "outputId": "28f8444e-ee4b-4200-d1fb-a9772d0c99ec"
      },
      "execution_count": null,
      "outputs": [
        {
          "name": "stdout",
          "output_type": "stream",
          "text": "<class 'pandas.core.frame.DataFrame'>\n\nInt64Index: 100000 entries, 2553817 to 1758741\n\nData columns (total 4 columns):\n\n #   Column      Non-Null Count   Dtype \n\n---  ------      --------------   ----- \n\n 0   0           100000 non-null  int64 \n\n 1   1           99998 non-null   object\n\n 2   2           100000 non-null  object\n\n 3   title_text  99998 non-null   object\n\ndtypes: int64(1), object(3)\n\nmemory usage: 3.8+ MB\n"
        }
      ]
    },
    {
      "cell_type": "code",
      "source": [
        "df_test.info()"
      ],
      "metadata": {
        "id": "xdh1uG8qkWnv",
        "outputId": "cc089d7b-f2a7-4ee2-9a12-98e44dcee2d4"
      },
      "execution_count": null,
      "outputs": [
        {
          "name": "stdout",
          "output_type": "stream",
          "text": "<class 'pandas.core.frame.DataFrame'>\n\nInt64Index: 400000 entries, 82170 to 265497\n\nData columns (total 4 columns):\n\n #   Column      Non-Null Count   Dtype \n\n---  ------      --------------   ----- \n\n 0   0           400000 non-null  int64 \n\n 1   1           399990 non-null  object\n\n 2   2           400000 non-null  object\n\n 3   title_text  399990 non-null  object\n\ndtypes: int64(1), object(3)\n\nmemory usage: 15.3+ MB\n"
        }
      ]
    },
    {
      "cell_type": "code",
      "source": [
        "df_test.dropna(inplace = True)"
      ],
      "metadata": {
        "id": "dUIMT--MkWnv"
      },
      "execution_count": null,
      "outputs": []
    },
    {
      "cell_type": "code",
      "source": [
        "df['label'] = df[0].apply(lambda x: 0 if x == 1 else 1)"
      ],
      "metadata": {
        "id": "fH2IkkqjkWnv"
      },
      "execution_count": null,
      "outputs": []
    },
    {
      "cell_type": "code",
      "source": [
        "df_test['label'] = df_test[0].apply(lambda x: 0 if x == 1 else 1)"
      ],
      "metadata": {
        "id": "77qAYJ2HkWnv"
      },
      "execution_count": null,
      "outputs": []
    },
    {
      "cell_type": "code",
      "source": [],
      "metadata": {
        "id": "fiMRmRlwkWnw"
      },
      "execution_count": null,
      "outputs": []
    },
    {
      "cell_type": "code",
      "source": [
        "# converting features into numpy arrays"
      ],
      "metadata": {
        "id": "Cs-A-_CdkWnw"
      },
      "execution_count": null,
      "outputs": []
    },
    {
      "cell_type": "code",
      "source": [
        "x_train = np.array(df['title_text'] , dtype = 'str')"
      ],
      "metadata": {
        "id": "04bol9K-kWnw"
      },
      "execution_count": null,
      "outputs": []
    },
    {
      "cell_type": "code",
      "source": [
        "x_train[:3]"
      ],
      "metadata": {
        "id": "zXtWE6x9kWnw",
        "outputId": "cd3b82d6-1126-41b2-9f01-157f97b36e9f"
      },
      "execution_count": null,
      "outputs": [
        {
          "execution_count": 29,
          "output_type": "execute_result",
          "data": {
            "text/plain": [
              "array([\"discharge, by discharge Nobody does punk like Discharge, they're loud, fast, and aggressive. Cal on vocals, sounds great, the rest of the band is awsome. This is the line-up I like the best.\",\n",
              "       \"Great to help you remember the first time you fell in love.. I'll admit, there are a couple of songs on the album that are repetitious, but overall the album carries a vibe so powerful that you become lost in the music. One Way didn't get enough props while they were around, but this compilation certainly does them justice.\",\n",
              "       'Leslie Sassone-Walk Strong This walk video is very good for me. I am sixty-three and I can now do the two mile walk and I feel I am getting great cardio benefits from it. This is my third video of Leslie Sassones and I think she does a great job.'],\n",
              "      dtype='<U1014')"
            ]
          },
          "metadata": {}
        }
      ]
    },
    {
      "cell_type": "code",
      "source": [
        "y_train = np.array(df['label'] , dtype = 'int32')"
      ],
      "metadata": {
        "id": "HkEnQRbskWnw"
      },
      "execution_count": null,
      "outputs": []
    },
    {
      "cell_type": "code",
      "source": [
        "x_test =  np.array(df_test['title_text'] , dtype = 'str')\n",
        "y_test = np.array(df_test['label'] , dtype = 'int32')"
      ],
      "metadata": {
        "id": "bW8GBWbnkWnx"
      },
      "execution_count": null,
      "outputs": []
    },
    {
      "cell_type": "code",
      "source": [
        "y_test"
      ],
      "metadata": {
        "id": "eweYCBnZkWnx",
        "outputId": "a408020e-0db8-4a2c-e062-ad2b1dcfab22"
      },
      "execution_count": null,
      "outputs": [
        {
          "execution_count": 32,
          "output_type": "execute_result",
          "data": {
            "text/plain": [
              "array([1, 1, 1, ..., 0, 1, 1])"
            ]
          },
          "metadata": {}
        }
      ]
    },
    {
      "cell_type": "markdown",
      "source": [
        "\n",
        "# Tokeninzing"
      ],
      "metadata": {
        "id": "91iBUA_QkWnx"
      }
    },
    {
      "cell_type": "code",
      "source": [
        "average_len = np.mean([len(item) for item in x_train])"
      ],
      "metadata": {
        "id": "PSOAvnOFkWnx"
      },
      "execution_count": null,
      "outputs": []
    },
    {
      "cell_type": "code",
      "source": [
        "average_len # average length of comments"
      ],
      "metadata": {
        "id": "FKunZAWnkWnx",
        "outputId": "a5e0bcd8-674e-4cd3-9097-99aa551ef3a6"
      },
      "execution_count": null,
      "outputs": [
        {
          "execution_count": 34,
          "output_type": "execute_result",
          "data": {
            "text/plain": [
              "430.76133"
            ]
          },
          "metadata": {}
        }
      ]
    },
    {
      "cell_type": "code",
      "source": [
        "max_len = int(average_len + 100)"
      ],
      "metadata": {
        "id": "unxJAVFnkWnx"
      },
      "execution_count": null,
      "outputs": []
    },
    {
      "cell_type": "code",
      "source": [
        "tokenizer = Tokenizer(num_words = 10_000 , oov_token='<OOV>')\n",
        "tokenizer.fit_on_texts(x_train)\n",
        "\n",
        "train_seq = tokenizer.texts_to_sequences(x_train)\n",
        "test_seq = tokenizer.texts_to_sequences(x_test)"
      ],
      "metadata": {
        "id": "2S3EtSgqkWny"
      },
      "execution_count": null,
      "outputs": []
    },
    {
      "cell_type": "code",
      "source": [
        "train_pad = pad_sequences(train_seq , maxlen = max_len )\n",
        "test_pad = pad_sequences(test_seq , maxlen = max_len )"
      ],
      "metadata": {
        "id": "DCP0dECjkWny"
      },
      "execution_count": null,
      "outputs": []
    },
    {
      "cell_type": "code",
      "source": [
        "train_label = to_categorical(y_train)\n",
        "test_label = to_categorical(y_test)"
      ],
      "metadata": {
        "id": "2yee0lzRkWny"
      },
      "execution_count": null,
      "outputs": []
    },
    {
      "cell_type": "code",
      "source": [
        "y_train"
      ],
      "metadata": {
        "id": "dSK6Xcv9kWny",
        "outputId": "7cdfa339-c26d-4a9c-aab3-070c63078366"
      },
      "execution_count": null,
      "outputs": [
        {
          "execution_count": 39,
          "output_type": "execute_result",
          "data": {
            "text/plain": [
              "array([1, 1, 1, ..., 0, 0, 0])"
            ]
          },
          "metadata": {}
        }
      ]
    },
    {
      "cell_type": "code",
      "source": [],
      "metadata": {
        "id": "L41gj9HMkWny"
      },
      "execution_count": null,
      "outputs": []
    },
    {
      "cell_type": "markdown",
      "source": [
        "\n",
        "# Modeling"
      ],
      "metadata": {
        "id": "ICMIt4XIkWny"
      }
    },
    {
      "cell_type": "code",
      "source": [
        "model = tf.keras.models.Sequential([\n",
        "    tf.keras.layers.Embedding(10_000 , 16),\n",
        "    tf.keras.layers.Bidirectional(tf.keras.layers.LSTM(16 , return_sequences=  True)) ,\n",
        "    tf.keras.layers.BatchNormalization(),\n",
        "    tf.keras.layers.Bidirectional(tf.keras.layers.LSTM(32)),\n",
        "    tf.keras.layers.Dropout(0.2),\n",
        "    tf.keras.layers.Dense(512 , activation = 'relu'),\n",
        "    tf.keras.layers.Dense(1 , activation = 'sigmoid')\n",
        "])"
      ],
      "metadata": {
        "id": "I7MSdukakWnz"
      },
      "execution_count": null,
      "outputs": []
    },
    {
      "cell_type": "code",
      "source": [
        "model.summary()"
      ],
      "metadata": {
        "id": "J_GMpvvVkWnz",
        "outputId": "5a4acccf-1ec1-4a4b-a4f5-404aa21de8e5"
      },
      "execution_count": null,
      "outputs": [
        {
          "name": "stdout",
          "output_type": "stream",
          "text": "Model: \"sequential\"\n\n_________________________________________________________________\n\nLayer (type)                 Output Shape              Param #   \n\n=================================================================\n\nembedding (Embedding)        (None, None, 16)          160000    \n\n_________________________________________________________________\n\nbidirectional (Bidirectional (None, None, 32)          4224      \n\n_________________________________________________________________\n\nbatch_normalization (BatchNo (None, None, 32)          128       \n\n_________________________________________________________________\n\nbidirectional_1 (Bidirection (None, 64)                16640     \n\n_________________________________________________________________\n\ndropout (Dropout)            (None, 64)                0         \n\n_________________________________________________________________\n\ndense (Dense)                (None, 512)               33280     \n\n_________________________________________________________________\n\ndense_1 (Dense)              (None, 1)                 513       \n\n=================================================================\n\nTotal params: 214,785\n\nTrainable params: 214,721\n\nNon-trainable params: 64\n\n_________________________________________________________________\n"
        }
      ]
    },
    {
      "cell_type": "code",
      "source": [
        "model.compile(loss = tf.keras.losses.binary_crossentropy , optimizer = tf.keras.optimizers.Adam() , metrics = ['accuracy'])"
      ],
      "metadata": {
        "id": "3eAvkCoMkWnz"
      },
      "execution_count": null,
      "outputs": []
    },
    {
      "cell_type": "code",
      "source": [
        "history = model.fit(train_pad , y_train , validation_split = 0.1 , epochs = 10)"
      ],
      "metadata": {
        "id": "Yx-81HPUkWnz",
        "outputId": "eac9b72e-9210-47c1-bc9e-728293912a7d"
      },
      "execution_count": null,
      "outputs": [
        {
          "name": "stdout",
          "output_type": "stream",
          "text": "Epoch 1/10\n\n2813/2813 [==============================] - 310s 108ms/step - loss: 0.3916 - accuracy: 0.8150 - val_loss: 0.2378 - val_accuracy: 0.9048\n\nEpoch 2/10\n\n2813/2813 [==============================] - 333s 118ms/step - loss: 0.1939 - accuracy: 0.9254 - val_loss: 0.2137 - val_accuracy: 0.9154\n\nEpoch 3/10\n\n2813/2813 [==============================] - 391s 139ms/step - loss: 0.1371 - accuracy: 0.9499 - val_loss: 0.2279 - val_accuracy: 0.9137\n\nEpoch 4/10\n\n2813/2813 [==============================] - 484s 172ms/step - loss: 0.0995 - accuracy: 0.9647 - val_loss: 0.2446 - val_accuracy: 0.9094\n\nEpoch 5/10\n\n2813/2813 [==============================] - 455s 162ms/step - loss: 0.0755 - accuracy: 0.9756 - val_loss: 0.3139 - val_accuracy: 0.9069\n\nEpoch 6/10\n\n2813/2813 [==============================] - 377s 134ms/step - loss: 0.0560 - accuracy: 0.9817 - val_loss: 0.3272 - val_accuracy: 0.9042\n\nEpoch 7/10\n\n2813/2813 [==============================] - 478s 170ms/step - loss: 0.0415 - accuracy: 0.9866 - val_loss: 0.3535 - val_accuracy: 0.9009\n\nEpoch 8/10\n\n2813/2813 [==============================] - 474s 169ms/step - loss: 0.0362 - accuracy: 0.9885 - val_loss: 0.3535 - val_accuracy: 0.9013\n\nEpoch 9/10\n\n2813/2813 [==============================] - 491s 175ms/step - loss: 0.0292 - accuracy: 0.9909 - val_loss: 0.4352 - val_accuracy: 0.9007\n\nEpoch 10/10\n\n2813/2813 [==============================] - 510s 181ms/step - loss: 0.0240 - accuracy: 0.9928 - val_loss: 0.4257 - val_accuracy: 0.9004\n"
        }
      ]
    },
    {
      "cell_type": "markdown",
      "source": [
        "\n",
        "# Overfitting check"
      ],
      "metadata": {
        "id": "ivPSCAxfkWnz"
      }
    },
    {
      "cell_type": "code",
      "source": [
        "loss = history.history['loss']\n",
        "val_loss = history.history['val_loss']\n",
        "\n",
        "plt.plot(loss , 'b' , label = 'train loss')\n",
        "plt.plot(val_loss , 'orange' , label = 'validation loss')\n",
        "\n",
        "plt.legend()\n",
        "plt.show()"
      ],
      "metadata": {
        "id": "C4jF6D-HkWnz",
        "outputId": "db90ab6b-31e4-4f50-b7a4-c0703ac98c96"
      },
      "execution_count": null,
      "outputs": [
        {
          "output_type": "display_data",
          "data": {
            "image/png": "[encoded data removed]",
            "text/plain": [
              "<Figure size 640x480 with 1 Axes>"
            ]
          },
          "metadata": {}
        }
      ]
    },
    {
      "cell_type": "code",
      "source": [
        "acc = history.history['accuracy']\n",
        "val_acc = history.history['val_accuracy']\n",
        "\n",
        "plt.plot(acc , 'b' , label = 'train accuracy')\n",
        "plt.plot(val_acc , 'orange' , label = 'validation accuracy')\n",
        "\n",
        "plt.legend()\n",
        "plt.show()"
      ],
      "metadata": {
        "id": "juvEHy5skWnz",
        "outputId": "a458cf88-af8b-4f89-f294-515c788fabd5"
      },
      "execution_count": null,
      "outputs": [
        {
          "output_type": "display_data",
          "data": {
            "image/png": "[encoded data removed]",
            "text/plain": [
              "<Figure size 640x480 with 1 Axes>"
            ]
          },
          "metadata": {}
        }
      ]
    },
    {
      "cell_type": "code",
      "source": [],
      "metadata": {
        "id": "LWfQWgMPkWn0"
      },
      "execution_count": null,
      "outputs": []
    },
    {
      "cell_type": "code",
      "source": [],
      "metadata": {
        "id": "hQrr7Oo_kWn0"
      },
      "execution_count": null,
      "outputs": []
    },
    {
      "cell_type": "code",
      "source": [],
      "metadata": {
        "id": "jX6jG8xkkWn0"
      },
      "execution_count": null,
      "outputs": []
    },
    {
      "cell_type": "code",
      "source": [],
      "metadata": {
        "id": "tgOXp9K9kWn0"
      },
      "execution_count": null,
      "outputs": []
    },
    {
      "cell_type": "markdown",
      "source": [
        "\n",
        "# Evaluation"
      ],
      "metadata": {
        "id": "Q4s0ba2IkWn0"
      }
    },
    {
      "cell_type": "code",
      "source": [
        "model.evaluate(test_pad , y_test)"
      ],
      "metadata": {
        "id": "IfFtkQBdkWn0",
        "outputId": "0b19404c-16dc-4ba7-8ccf-d38460e21834"
      },
      "execution_count": null,
      "outputs": [
        {
          "name": "stdout",
          "output_type": "stream",
          "text": "12500/12500 [==============================] - 725s 58ms/step - loss: 0.3911 - accuracy: 0.9058\n"
        },
        {
          "execution_count": 46,
          "output_type": "execute_result",
          "data": {
            "text/plain": [
              "[0.39107951521873474, 0.9057576656341553]"
            ]
          },
          "metadata": {}
        }
      ]
    },
    {
      "cell_type": "code",
      "source": [],
      "metadata": {
        "id": "1MQk2Y3lWiAd"
      },
      "execution_count": null,
      "outputs": []
    }
  ]
}